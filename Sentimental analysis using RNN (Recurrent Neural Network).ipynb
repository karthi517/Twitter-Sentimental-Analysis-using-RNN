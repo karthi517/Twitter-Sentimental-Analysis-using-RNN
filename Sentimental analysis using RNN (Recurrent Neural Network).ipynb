{
 "cells": [
  {
   "cell_type": "code",
   "execution_count": 1,
   "id": "d57774b3",
   "metadata": {},
   "outputs": [],
   "source": [
    "#importing required libraries\n",
    "import pandas as pd #importing pandas to do some operations"
   ]
  },
  {
   "cell_type": "code",
   "execution_count": 2,
   "id": "99f9cd28",
   "metadata": {},
   "outputs": [],
   "source": [
    "#Reading the dataset using pandas\n",
    "df=pd.read_csv('F:/Aegis/NLP/Twitter Sentimental Analysis using RNN/sentiment_tweets3.csv')"
   ]
  },
  {
   "cell_type": "code",
   "execution_count": 3,
   "id": "90437eca",
   "metadata": {},
   "outputs": [
    {
     "data": {
      "text/html": [
       "<div>\n",
       "<style scoped>\n",
       "    .dataframe tbody tr th:only-of-type {\n",
       "        vertical-align: middle;\n",
       "    }\n",
       "\n",
       "    .dataframe tbody tr th {\n",
       "        vertical-align: top;\n",
       "    }\n",
       "\n",
       "    .dataframe thead th {\n",
       "        text-align: right;\n",
       "    }\n",
       "</style>\n",
       "<table border=\"1\" class=\"dataframe\">\n",
       "  <thead>\n",
       "    <tr style=\"text-align: right;\">\n",
       "      <th></th>\n",
       "      <th>Index</th>\n",
       "      <th>message to examine</th>\n",
       "      <th>label (depression result)</th>\n",
       "    </tr>\n",
       "  </thead>\n",
       "  <tbody>\n",
       "    <tr>\n",
       "      <th>0</th>\n",
       "      <td>106</td>\n",
       "      <td>just had a real good moment. i missssssssss hi...</td>\n",
       "      <td>0</td>\n",
       "    </tr>\n",
       "    <tr>\n",
       "      <th>1</th>\n",
       "      <td>217</td>\n",
       "      <td>is reading manga  http://plurk.com/p/mzp1e</td>\n",
       "      <td>0</td>\n",
       "    </tr>\n",
       "    <tr>\n",
       "      <th>2</th>\n",
       "      <td>220</td>\n",
       "      <td>@comeagainjen http://twitpic.com/2y2lx - http:...</td>\n",
       "      <td>0</td>\n",
       "    </tr>\n",
       "    <tr>\n",
       "      <th>3</th>\n",
       "      <td>288</td>\n",
       "      <td>@lapcat Need to send 'em to my accountant tomo...</td>\n",
       "      <td>0</td>\n",
       "    </tr>\n",
       "    <tr>\n",
       "      <th>4</th>\n",
       "      <td>540</td>\n",
       "      <td>ADD ME ON MYSPACE!!!  myspace.com/LookThunder</td>\n",
       "      <td>0</td>\n",
       "    </tr>\n",
       "    <tr>\n",
       "      <th>...</th>\n",
       "      <td>...</td>\n",
       "      <td>...</td>\n",
       "      <td>...</td>\n",
       "    </tr>\n",
       "    <tr>\n",
       "      <th>10309</th>\n",
       "      <td>802309</td>\n",
       "      <td>No Depression by G Herbo is my mood from now o...</td>\n",
       "      <td>1</td>\n",
       "    </tr>\n",
       "    <tr>\n",
       "      <th>10310</th>\n",
       "      <td>802310</td>\n",
       "      <td>What do you do when depression succumbs the br...</td>\n",
       "      <td>1</td>\n",
       "    </tr>\n",
       "    <tr>\n",
       "      <th>10311</th>\n",
       "      <td>802311</td>\n",
       "      <td>Ketamine Nasal Spray Shows Promise Against Dep...</td>\n",
       "      <td>1</td>\n",
       "    </tr>\n",
       "    <tr>\n",
       "      <th>10312</th>\n",
       "      <td>802312</td>\n",
       "      <td>dont mistake a bad day with depression! everyo...</td>\n",
       "      <td>1</td>\n",
       "    </tr>\n",
       "    <tr>\n",
       "      <th>10313</th>\n",
       "      <td>802313</td>\n",
       "      <td>0</td>\n",
       "      <td>1</td>\n",
       "    </tr>\n",
       "  </tbody>\n",
       "</table>\n",
       "<p>10314 rows × 3 columns</p>\n",
       "</div>"
      ],
      "text/plain": [
       "        Index                                 message to examine  \\\n",
       "0         106  just had a real good moment. i missssssssss hi...   \n",
       "1         217         is reading manga  http://plurk.com/p/mzp1e   \n",
       "2         220  @comeagainjen http://twitpic.com/2y2lx - http:...   \n",
       "3         288  @lapcat Need to send 'em to my accountant tomo...   \n",
       "4         540      ADD ME ON MYSPACE!!!  myspace.com/LookThunder   \n",
       "...       ...                                                ...   \n",
       "10309  802309  No Depression by G Herbo is my mood from now o...   \n",
       "10310  802310  What do you do when depression succumbs the br...   \n",
       "10311  802311  Ketamine Nasal Spray Shows Promise Against Dep...   \n",
       "10312  802312  dont mistake a bad day with depression! everyo...   \n",
       "10313  802313                                                  0   \n",
       "\n",
       "       label (depression result)  \n",
       "0                              0  \n",
       "1                              0  \n",
       "2                              0  \n",
       "3                              0  \n",
       "4                              0  \n",
       "...                          ...  \n",
       "10309                          1  \n",
       "10310                          1  \n",
       "10311                          1  \n",
       "10312                          1  \n",
       "10313                          1  \n",
       "\n",
       "[10314 rows x 3 columns]"
      ]
     },
     "execution_count": 3,
     "metadata": {},
     "output_type": "execute_result"
    }
   ],
   "source": [
    "df"
   ]
  },
  {
   "cell_type": "markdown",
   "id": "55f76a9d",
   "metadata": {},
   "source": [
    "# Feature Selection"
   ]
  },
  {
   "cell_type": "code",
   "execution_count": 4,
   "id": "177797f5",
   "metadata": {},
   "outputs": [],
   "source": [
    "#Taking X a as feature and the  column message to examine is our feature\n",
    "X=df['message to examine']"
   ]
  },
  {
   "cell_type": "code",
   "execution_count": 5,
   "id": "793d00f7",
   "metadata": {},
   "outputs": [],
   "source": [
    "#Taking y as our target varaible and the column label (depression result) is our target\n",
    "y=df['label (depression result)']"
   ]
  },
  {
   "cell_type": "code",
   "execution_count": 6,
   "id": "cdb6a012",
   "metadata": {},
   "outputs": [
    {
     "data": {
      "text/plain": [
       "0        just had a real good moment. i missssssssss hi...\n",
       "1               is reading manga  http://plurk.com/p/mzp1e\n",
       "2        @comeagainjen http://twitpic.com/2y2lx - http:...\n",
       "3        @lapcat Need to send 'em to my accountant tomo...\n",
       "4            ADD ME ON MYSPACE!!!  myspace.com/LookThunder\n",
       "                               ...                        \n",
       "10309    No Depression by G Herbo is my mood from now o...\n",
       "10310    What do you do when depression succumbs the br...\n",
       "10311    Ketamine Nasal Spray Shows Promise Against Dep...\n",
       "10312    dont mistake a bad day with depression! everyo...\n",
       "10313                                                    0\n",
       "Name: message to examine, Length: 10314, dtype: object"
      ]
     },
     "execution_count": 6,
     "metadata": {},
     "output_type": "execute_result"
    }
   ],
   "source": [
    "X"
   ]
  },
  {
   "cell_type": "code",
   "execution_count": 7,
   "id": "84a43311",
   "metadata": {},
   "outputs": [
    {
     "data": {
      "text/plain": [
       "0        0\n",
       "1        0\n",
       "2        0\n",
       "3        0\n",
       "4        0\n",
       "        ..\n",
       "10309    1\n",
       "10310    1\n",
       "10311    1\n",
       "10312    1\n",
       "10313    1\n",
       "Name: label (depression result), Length: 10314, dtype: int64"
      ]
     },
     "execution_count": 7,
     "metadata": {},
     "output_type": "execute_result"
    }
   ],
   "source": [
    "y"
   ]
  },
  {
   "cell_type": "code",
   "execution_count": 8,
   "id": "7b62538e",
   "metadata": {},
   "outputs": [],
   "source": [
    "#From the library scikitlearn we are using train_test_split for splting the training data and the testing data separately\n",
    "from sklearn.model_selection import train_test_split"
   ]
  },
  {
   "cell_type": "code",
   "execution_count": 9,
   "id": "646e1a3b",
   "metadata": {},
   "outputs": [],
   "source": [
    "#For training we are taking and 80% of data and for testing we are going to take 20% of data \n",
    "X_train,X_test,y_train,y_test=train_test_split(X,y,random_state=1,stratify=y,test_size=0.2)"
   ]
  },
  {
   "cell_type": "code",
   "execution_count": 10,
   "id": "6318480b",
   "metadata": {},
   "outputs": [
    {
     "name": "stdout",
     "output_type": "stream",
     "text": [
      "shape of X_train:  (8251,)\n",
      "shape of X_test:  (2063,)\n",
      "shape of y_train:  (8251,)\n",
      "shape of y_test:  (2063,)\n"
     ]
    }
   ],
   "source": [
    "#printing the shape of the data after splitting\n",
    "print(\"shape of X_train: \",X_train.shape)\n",
    "print(\"shape of X_test: \",X_test.shape)\n",
    "\n",
    "print(\"shape of y_train: \",y_train.shape)\n",
    "print(\"shape of y_test: \",y_test.shape)"
   ]
  },
  {
   "cell_type": "code",
   "execution_count": 11,
   "id": "00025fa5",
   "metadata": {},
   "outputs": [
    {
     "name": "stdout",
     "output_type": "stream",
     "text": [
      "@SilkCharm re: #nbn as someone already said, does fiber to the home mean we will all at least be regular now \n",
      "0\n"
     ]
    }
   ],
   "source": [
    "#printing values at sixth row\n",
    "print(X_train[6]) \n",
    "print(y_train[6])"
   ]
  },
  {
   "cell_type": "code",
   "execution_count": 12,
   "id": "0fac73e3",
   "metadata": {},
   "outputs": [],
   "source": [
    "# we will use the Tokenizer class : create a word-to-index dictionary. In the word-to-index dictionary,\n",
    "from keras.preprocessing.text import Tokenizer\n",
    "\n",
    "tokenizer = Tokenizer(num_words=1000,lower=True)\n",
    "tokenizer.fit_on_texts(X_train)\n",
    "\n",
    "\n",
    "\n",
    "X_train = tokenizer.texts_to_sequences(X_train)\n",
    "X_test = tokenizer.texts_to_sequences(X_test)\n",
    "\n",
    "\n",
    "# Adding 1 because of reserved 0 index\n",
    "vocab_size = len(tokenizer.word_index) + 1"
   ]
  },
  {
   "cell_type": "code",
   "execution_count": 13,
   "id": "7e908e2f",
   "metadata": {},
   "outputs": [
    {
     "name": "stdout",
     "output_type": "stream",
     "text": [
      "[11, 3, 199, 431, 615, 21, 2, 82, 48, 227, 48, 94, 248]\n",
      "0\n"
     ]
    }
   ],
   "source": [
    "print(X_train[6]) \n",
    "print(y_train[6])"
   ]
  },
  {
   "cell_type": "code",
   "execution_count": 14,
   "id": "451991a9",
   "metadata": {},
   "outputs": [
    {
     "name": "stdout",
     "output_type": "stream",
     "text": [
      "[  1  19   8  11 416 404   1  30  66  24  12 229 107  20  12  10   0   0\n",
      "   0   0   0   0   0   0   0   0   0   0   0   0   0   0   0   0   0   0\n",
      "   0   0   0   0   0   0   0   0   0   0   0   0   0   0   0   0   0   0\n",
      "   0   0   0   0   0   0   0   0   0   0   0   0   0   0   0   0   0   0\n",
      "   0   0   0   0   0   0   0   0   0   0   0   0   0   0   0   0   0   0\n",
      "   0   0   0   0   0   0   0   0   0   0]\n"
     ]
    }
   ],
   "source": [
    "from tensorflow.keras.preprocessing.sequence import pad_sequences\n",
    "\n",
    "\n",
    "maxlen = 100  #We set the maximum size of each list to 100.\n",
    "\n",
    "\n",
    "X_train = pad_sequences(X_train, padding='post', maxlen=maxlen)\n",
    "X_test = pad_sequences(X_test, padding='post', maxlen=maxlen)\n",
    "\n",
    "print(X_train[3, :])  #the resulting feature vector contains mostly zeros, since you have a fairly short sentence."
   ]
  },
  {
   "cell_type": "code",
   "execution_count": 15,
   "id": "fb0d9d60",
   "metadata": {},
   "outputs": [
    {
     "name": "stdout",
     "output_type": "stream",
     "text": [
      "(8251, 2)\n",
      "[1. 0.]\n"
     ]
    }
   ],
   "source": [
    "from keras.utils import to_categorical\n",
    "num_classes = 2\n",
    "\n",
    "y_train = to_categorical(y_train, num_classes)\n",
    "y_test = to_categorical(y_test, num_classes)\n",
    "\n",
    "print(y_train.shape)\n",
    "print(y_train[0])\n",
    "#print(len(y_train[0]))"
   ]
  },
  {
   "cell_type": "code",
   "execution_count": 16,
   "id": "d21f51b2",
   "metadata": {},
   "outputs": [
    {
     "name": "stdout",
     "output_type": "stream",
     "text": [
      "(8251, 100, 1)\n",
      "(2063, 100, 1)\n"
     ]
    }
   ],
   "source": [
    "from keras.models import Sequential\n",
    "from keras.layers import Dense, Dropout, Activation,SimpleRNN\n",
    "from keras import optimizers\n",
    "from tensorflow.keras.preprocessing.sequence import pad_sequences\n",
    "import numpy as np\n",
    "#import numpy as np\n",
    "\n",
    "#(samples, timesteps, features)\n",
    "#(batch_size, timesteps, input_dim)\n",
    "X_train = np.array(X_train).reshape((X_train.shape[0], X_train.shape[1], 1))\n",
    "print(X_train.shape)  #(750, 100, 1)\n",
    "\n",
    "X_test = np.array(X_test).reshape((X_test.shape[0], X_test.shape[1], 1))\n",
    "print(X_test.shape)"
   ]
  },
  {
   "cell_type": "code",
   "execution_count": 17,
   "id": "4f366991",
   "metadata": {},
   "outputs": [],
   "source": [
    "num_classes=2\n",
    "\n",
    "def vanilla_rnn():\n",
    "    model = Sequential()\n",
    "    #model.add(SimpleRNN(50, input_shape = (X_train.shape[1], X_train.shape[2],), return_sequences = False))\n",
    "    model.add(SimpleRNN(50, input_shape = (maxlen,1), return_sequences = False))\n",
    "    model.add(Dense(num_classes))\n",
    "    model.add(Activation('softmax'))\n",
    "    model.summary()\n",
    "    \n",
    "    adam = optimizers.Adam(lr = 0.001)\n",
    "    model.compile(loss = 'categorical_crossentropy', optimizer = adam, metrics = ['accuracy'])\n",
    "    \n",
    "    return model"
   ]
  },
  {
   "cell_type": "code",
   "execution_count": 18,
   "id": "5f7387eb",
   "metadata": {},
   "outputs": [],
   "source": [
    "from tensorflow.keras.callbacks import EarlyStopping\n",
    "es=EarlyStopping(patience=5)"
   ]
  },
  {
   "cell_type": "code",
   "execution_count": 19,
   "id": "91fb3775",
   "metadata": {},
   "outputs": [
    {
     "name": "stderr",
     "output_type": "stream",
     "text": [
      "C:\\Users\\HP\\AppData\\Local\\Temp/ipykernel_18288/72490507.py:3: DeprecationWarning: KerasClassifier is deprecated, use Sci-Keras (https://github.com/adriangb/scikeras) instead. See https://www.adriangb.com/scikeras/stable/migration.html for help migrating.\n",
      "  model = KerasClassifier(build_fn = vanilla_rnn,validation_data=(X_test,y_test), epochs = 20, batch_size = 50)\n"
     ]
    },
    {
     "name": "stdout",
     "output_type": "stream",
     "text": [
      "Model: \"sequential\"\n",
      "_________________________________________________________________\n",
      " Layer (type)                Output Shape              Param #   \n",
      "=================================================================\n",
      " simple_rnn (SimpleRNN)      (None, 50)                2600      \n",
      "                                                                 \n",
      " dense (Dense)               (None, 2)                 102       \n",
      "                                                                 \n",
      " activation (Activation)     (None, 2)                 0         \n",
      "                                                                 \n",
      "=================================================================\n",
      "Total params: 2,702\n",
      "Trainable params: 2,702\n",
      "Non-trainable params: 0\n",
      "_________________________________________________________________\n"
     ]
    },
    {
     "name": "stderr",
     "output_type": "stream",
     "text": [
      "c:\\Users\\HP\\AppData\\Local\\Programs\\Python\\Python310\\lib\\site-packages\\keras\\optimizers\\optimizer_v2\\adam.py:117: UserWarning: The `lr` argument is deprecated, use `learning_rate` instead.\n",
      "  super().__init__(name, **kwargs)\n"
     ]
    },
    {
     "name": "stdout",
     "output_type": "stream",
     "text": [
      "Epoch 1/20\n",
      "166/166 [==============================] - 9s 34ms/step - loss: 0.5398 - accuracy: 0.7705 - val_loss: 0.5351 - val_accuracy: 0.7756\n",
      "Epoch 2/20\n",
      "166/166 [==============================] - 3s 18ms/step - loss: 0.5346 - accuracy: 0.7757 - val_loss: 0.5326 - val_accuracy: 0.7756\n",
      "Epoch 3/20\n",
      "166/166 [==============================] - 5s 33ms/step - loss: 0.5344 - accuracy: 0.7757 - val_loss: 0.5329 - val_accuracy: 0.7756\n",
      "Epoch 4/20\n",
      "166/166 [==============================] - 6s 34ms/step - loss: 0.5339 - accuracy: 0.7757 - val_loss: 0.5363 - val_accuracy: 0.7756\n",
      "Epoch 5/20\n",
      "166/166 [==============================] - 3s 20ms/step - loss: 0.5346 - accuracy: 0.7757 - val_loss: 0.5351 - val_accuracy: 0.7756\n",
      "Epoch 6/20\n",
      "166/166 [==============================] - 4s 26ms/step - loss: 0.5430 - accuracy: 0.7709 - val_loss: 0.5325 - val_accuracy: 0.7756\n",
      "Epoch 7/20\n",
      "166/166 [==============================] - 6s 35ms/step - loss: 0.5337 - accuracy: 0.7757 - val_loss: 0.5388 - val_accuracy: 0.7756\n",
      "Epoch 8/20\n",
      "166/166 [==============================] - 4s 26ms/step - loss: 0.5355 - accuracy: 0.7757 - val_loss: 0.5357 - val_accuracy: 0.7756\n",
      "Epoch 9/20\n",
      "166/166 [==============================] - 4s 23ms/step - loss: 0.5350 - accuracy: 0.7757 - val_loss: 0.5377 - val_accuracy: 0.7756\n",
      "Epoch 10/20\n",
      "166/166 [==============================] - 4s 24ms/step - loss: 0.5357 - accuracy: 0.7757 - val_loss: 0.5330 - val_accuracy: 0.7756\n",
      "Epoch 11/20\n",
      "166/166 [==============================] - 4s 24ms/step - loss: 0.5343 - accuracy: 0.7757 - val_loss: 0.5327 - val_accuracy: 0.7756\n",
      "Epoch 12/20\n",
      "166/166 [==============================] - 4s 22ms/step - loss: 0.5349 - accuracy: 0.7757 - val_loss: 0.5325 - val_accuracy: 0.7756\n",
      "Epoch 13/20\n",
      "166/166 [==============================] - 4s 24ms/step - loss: 0.5329 - accuracy: 0.7757 - val_loss: 0.5325 - val_accuracy: 0.7756\n",
      "Epoch 14/20\n",
      "166/166 [==============================] - 4s 25ms/step - loss: 0.5332 - accuracy: 0.7757 - val_loss: 0.5326 - val_accuracy: 0.7756\n",
      "Epoch 15/20\n",
      "166/166 [==============================] - 4s 22ms/step - loss: 0.5337 - accuracy: 0.7757 - val_loss: 0.5332 - val_accuracy: 0.7756\n",
      "Epoch 16/20\n",
      "166/166 [==============================] - 4s 24ms/step - loss: 0.5348 - accuracy: 0.7757 - val_loss: 0.5331 - val_accuracy: 0.7756\n",
      "Epoch 17/20\n",
      "166/166 [==============================] - 4s 27ms/step - loss: 0.5335 - accuracy: 0.7757 - val_loss: 0.5335 - val_accuracy: 0.7756\n",
      "Epoch 18/20\n",
      "166/166 [==============================] - 4s 23ms/step - loss: 0.5328 - accuracy: 0.7757 - val_loss: 0.5327 - val_accuracy: 0.7756\n",
      "Epoch 19/20\n",
      "166/166 [==============================] - 4s 23ms/step - loss: 0.5341 - accuracy: 0.7757 - val_loss: 0.5334 - val_accuracy: 0.7756\n",
      "Epoch 20/20\n",
      "166/166 [==============================] - 4s 25ms/step - loss: 0.5326 - accuracy: 0.7757 - val_loss: 0.5368 - val_accuracy: 0.7756\n"
     ]
    },
    {
     "data": {
      "text/plain": [
       "<keras.callbacks.History at 0x1f013419480>"
      ]
     },
     "execution_count": 19,
     "metadata": {},
     "output_type": "execute_result"
    }
   ],
   "source": [
    "from keras.wrappers.scikit_learn import KerasClassifier\n",
    "\n",
    "model = KerasClassifier(build_fn = vanilla_rnn,validation_data=(X_test,y_test), epochs = 20, batch_size = 50)\n",
    "model.fit(X_train, y_train)"
   ]
  },
  {
   "cell_type": "code",
   "execution_count": 20,
   "id": "48e00b1c",
   "metadata": {},
   "outputs": [
    {
     "name": "stdout",
     "output_type": "stream",
     "text": [
      "65/65 [==============================] - 1s 7ms/step\n",
      "0.7755695588948134\n"
     ]
    }
   ],
   "source": [
    "from sklearn.metrics import accuracy_score\n",
    "y_pred = model.predict(X_test)\n",
    "y_test_ = np.argmax(y_test, axis = 1)\n",
    "\n",
    "print(accuracy_score(y_pred, y_test_))"
   ]
  },
  {
   "cell_type": "code",
   "execution_count": 26,
   "id": "f98270bd",
   "metadata": {},
   "outputs": [
    {
     "name": "stdout",
     "output_type": "stream",
     "text": [
      "(1, 100, 1)\n",
      "1/1 [==============================] - 0s 29ms/step\n",
      "[0]\n"
     ]
    }
   ],
   "source": [
    "#a= ['Waitress was bad in service and completed not satisfied and hate their service']\n",
    "a = [\"I love their service and wonderful to get their service\"]\n",
    "a = tokenizer.texts_to_sequences(a)\n",
    "a=np.array(a)\n",
    "a = pad_sequences(a, padding='post', maxlen=maxlen)\n",
    "\n",
    "a = a.reshape((a.shape[0], a.shape[1], 1))\n",
    "print(a.shape)\n",
    "\n",
    "prediction = model.predict(np.array(a))\n",
    "print(prediction) # 0 means negative and 1 means positive"
   ]
  },
  {
   "cell_type": "code",
   "execution_count": null,
   "id": "4182e36b",
   "metadata": {},
   "outputs": [],
   "source": []
  }
 ],
 "metadata": {
  "kernelspec": {
   "display_name": "Python 3 (ipykernel)",
   "language": "python",
   "name": "python3"
  },
  "language_info": {
   "codemirror_mode": {
    "name": "ipython",
    "version": 3
   },
   "file_extension": ".py",
   "mimetype": "text/x-python",
   "name": "python",
   "nbconvert_exporter": "python",
   "pygments_lexer": "ipython3",
   "version": "3.10.1"
  }
 },
 "nbformat": 4,
 "nbformat_minor": 5
}
